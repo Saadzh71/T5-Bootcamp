{
  "nbformat": 4,
  "nbformat_minor": 0,
  "metadata": {
    "colab": {
      "provenance": []
    },
    "kernelspec": {
      "name": "python3",
      "display_name": "Python 3"
    },
    "language_info": {
      "name": "python"
    }
  },
  "cells": [
    {
      "cell_type": "markdown",
      "source": [
        "# **Forward Propagation**"
      ],
      "metadata": {
        "id": "d7Zr2TUm7ma1"
      }
    },
    {
      "cell_type": "markdown",
      "source": [
        "#Step 1 : import libraries"
      ],
      "metadata": {
        "id": "2ekenUWc7qGF"
      }
    },
    {
      "cell_type": "code",
      "execution_count": null,
      "metadata": {
        "id": "cu0RHYxn7dHX"
      },
      "outputs": [],
      "source": []
    },
    {
      "cell_type": "markdown",
      "source": [
        "# Step 2 : Creating Dataset:\n",
        "###It creates a DataFrame df with columns ' num of cars', 'model of care', and ‘driver gender while 0 Woman and 1 MAN’."
      ],
      "metadata": {
        "id": "oS9BUiVS78wj"
      }
    },
    {
      "cell_type": "code",
      "source": [
        "# Creating a dataset\n"
      ],
      "metadata": {
        "id": "qaH3xp1w78cC"
      },
      "execution_count": null,
      "outputs": []
    },
    {
      "cell_type": "markdown",
      "source": [
        "#Step 3 :Initialize Parameters Function (initialize_parameters):\n",
        "###This function initializes the weights W and biases b for each layer of the neural network. It returns a dictionary containing the initialized parameters."
      ],
      "metadata": {
        "id": "mmjNGOXi8Jf6"
      }
    },
    {
      "cell_type": "code",
      "source": [
        "# Initializing parameters\n"
      ],
      "metadata": {
        "id": "t6-0Di278GZj"
      },
      "execution_count": null,
      "outputs": []
    },
    {
      "cell_type": "markdown",
      "source": [
        "#Step 4 : Forward Propagation Functions (linear_forward, L_layer_forward):\n",
        "### These functions perform the forward pass through the neural network. linear_forward computes the linear transformation 𝑍=𝑊𝑇⋅𝐴prev+𝑏, while **L_layer_forward** iterates through the layers, applying the linear transformation and activation function to compute the output of the network."
      ],
      "metadata": {
        "id": "YW7asuG_8Q9x"
      }
    },
    {
      "cell_type": "code",
      "source": [
        "# Forward propagation\n"
      ],
      "metadata": {
        "id": "4q5yykoz8Qh6"
      },
      "execution_count": null,
      "outputs": []
    },
    {
      "cell_type": "markdown",
      "source": [
        "#Step 5 : Example Execution\n",
        "\n",
        "###It demonstrates an example execution of the forward pass for the first row of the dataset df, using the initialized parameters."
      ],
      "metadata": {
        "id": "c3stEx898-tG"
      }
    },
    {
      "cell_type": "code",
      "source": [
        "# Example execution\n"
      ],
      "metadata": {
        "colab": {
          "base_uri": "https://localhost:8080/"
        },
        "id": "oA0cFFSO896Y",
        "outputId": "127c8252-4850-4a00-8ae9-b2522e376300"
      },
      "execution_count": null,
      "outputs": [
        {
          "output_type": "stream",
          "name": "stdout",
          "text": [
            "Final output:\n",
            "[[0.32]]\n"
          ]
        }
      ]
    },
    {
      "cell_type": "markdown",
      "source": [
        "#**Well Done :)**"
      ],
      "metadata": {
        "id": "ZWTnuk3x9SF6"
      }
    }
  ]
}