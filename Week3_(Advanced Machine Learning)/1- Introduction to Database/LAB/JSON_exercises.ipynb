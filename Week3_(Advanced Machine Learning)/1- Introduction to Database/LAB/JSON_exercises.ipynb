{
 "cells": [
  {
   "cell_type": "markdown",
   "id": "6b5c524a",
   "metadata": {},
   "source": [
    "# JSON Practice Exercises\n",
    "\n",
    "These exercises will help you practice working with JSON in Python."
   ]
  },
  {
   "cell_type": "markdown",
   "id": "530fc65c",
   "metadata": {},
   "source": [
    "## Exercise 1: Converting Python Objects to JSON\n",
    "\n",
    "Create a Python dictionary representing a book with the following attributes:\n",
    "- title\n",
    "- author\n",
    "- year\n",
    "\n",
    "Convert this dictionary to a JSON string using `json.dumps()` and print the result."
   ]
  },
  {
   "cell_type": "code",
   "execution_count": null,
   "id": "f74a5ed5",
   "metadata": {},
   "outputs": [],
   "source": [
    "# Your code here"
   ]
  },
  {
   "cell_type": "markdown",
   "id": "84799d52",
   "metadata": {},
   "source": [
    "## Exercise 2: Converting JSON to Python Objects\n",
    "\n",
    "Given the following JSON string:\n",
    "```json\n",
    "'{\"name\": \"Alice\", \"age\": 25, \"city\": \"Wonderland\"}'\n",
    "```\n",
    "Convert this JSON string to a Python dictionary using `json.loads()` and print the result."
   ]
  },
  {
   "cell_type": "code",
   "execution_count": null,
   "id": "a2ba7ced",
   "metadata": {},
   "outputs": [],
   "source": [
    "# Your code here"
   ]
  },
  {
   "cell_type": "markdown",
   "id": "e291d203",
   "metadata": {},
   "source": [
    "## Exercise 3: Reading JSON from a File\n",
    "\n",
    "Write a Python script to read the following JSON data from a file named `data.json` and print it:\n",
    "```json\n",
    "{\n",
    "    \"name\": \"Bob\",\n",
    "    \"age\": 22,\n",
    "    \"city\": \"Paris\"\n",
    "}\n",
    "```"
   ]
  },
  {
   "cell_type": "code",
   "execution_count": null,
   "id": "a5655d4b",
   "metadata": {},
   "outputs": [],
   "source": [
    "# Your code here"
   ]
  },
  {
   "cell_type": "markdown",
   "id": "7b83b8f8",
   "metadata": {},
   "source": [
    "## Exercise 4: Writing JSON to a File\n",
    "\n",
    "Create a Python dictionary representing a student with the following attributes:\n",
    "- name\n",
    "- grade\n",
    "- subjects (a list of subjects)\n",
    "\n",
    "Write this dictionary to a JSON file named `student.json` using `json.dump()`."
   ]
  },
  {
   "cell_type": "code",
   "execution_count": null,
   "id": "96c1b087",
   "metadata": {},
   "outputs": [],
   "source": [
    "# Your code here"
   ]
  },
  {
   "cell_type": "markdown",
   "id": "7d9b3849",
   "metadata": {},
   "source": [
    "## Exercise 5: Pretty Printing JSON\n",
    "\n",
    "Given a Python dictionary representing a movie with the following attributes:\n",
    "- title\n",
    "- director\n",
    "- year\n",
    "- genre\n",
    "\n",
    "Convert this dictionary to a JSON string with indentation using `json.dumps()` and print the result."
   ]
  },
  {
   "cell_type": "code",
   "execution_count": null,
   "id": "cfe017d4",
   "metadata": {},
   "outputs": [],
   "source": [
    "# Your code here"
   ]
  }
 ],
 "metadata": {},
 "nbformat": 4,
 "nbformat_minor": 5
}
