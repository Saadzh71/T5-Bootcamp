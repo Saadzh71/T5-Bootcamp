{
  "nbformat": 4,
  "nbformat_minor": 0,
  "metadata": {
    "colab": {
      "provenance": []
    },
    "kernelspec": {
      "name": "python3",
      "display_name": "Python 3"
    },
    "language_info": {
      "name": "python"
    }
  },
  "cells": [
    {
      "cell_type": "markdown",
      "source": [
        "#**DBSCAN**\n"
      ],
      "metadata": {
        "id": "WLQzuoxi9Nfq"
      }
    },
    {
      "cell_type": "markdown",
      "source": [
        "#Step 1 : Import Libraries\n",
        "\n"
      ],
      "metadata": {
        "id": "_3zW-i7I9O_b"
      }
    },
    {
      "cell_type": "code",
      "execution_count": null,
      "metadata": {
        "id": "cAhG72k89JCs"
      },
      "outputs": [],
      "source": []
    },
    {
      "cell_type": "markdown",
      "source": [
        "#Step 2 : Prepare dataset\n",
        "###**use make blobs with different numbers**\n",
        "\n"
      ],
      "metadata": {
        "id": "5Knv40zd9TeJ"
      }
    },
    {
      "cell_type": "code",
      "source": [],
      "metadata": {
        "id": "NqEujM0J9TCn"
      },
      "execution_count": null,
      "outputs": []
    },
    {
      "cell_type": "markdown",
      "source": [
        "#Step 3 : Modeling The Data Using DBSCAN\n",
        "\n"
      ],
      "metadata": {
        "id": "8GtmnKoI9kNm"
      }
    },
    {
      "cell_type": "code",
      "source": [],
      "metadata": {
        "id": "fOTAfBFA9i_y"
      },
      "execution_count": null,
      "outputs": []
    },
    {
      "cell_type": "markdown",
      "source": [
        "#Step 4 : Evaluation Metrics For DBSCAN Algorithm In Machine Learning\n"
      ],
      "metadata": {
        "id": "ijz9iIqa9u3g"
      }
    },
    {
      "cell_type": "code",
      "source": [],
      "metadata": {
        "id": "PFmYeD5U9x2S"
      },
      "execution_count": null,
      "outputs": []
    },
    {
      "cell_type": "markdown",
      "source": [
        "#**Well Done :)**"
      ],
      "metadata": {
        "id": "ZzXNoxfh9-y9"
      }
    }
  ]
}