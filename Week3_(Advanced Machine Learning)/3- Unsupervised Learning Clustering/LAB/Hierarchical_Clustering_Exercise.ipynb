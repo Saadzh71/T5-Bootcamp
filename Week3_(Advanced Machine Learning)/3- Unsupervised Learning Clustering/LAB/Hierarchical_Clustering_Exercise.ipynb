{
  "nbformat": 4,
  "nbformat_minor": 0,
  "metadata": {
    "colab": {
      "provenance": []
    },
    "kernelspec": {
      "name": "python3",
      "display_name": "Python 3"
    },
    "language_info": {
      "name": "python"
    }
  },
  "cells": [
    {
      "cell_type": "markdown",
      "source": [
        "#**Python Implementation using the scikit-learn library**"
      ],
      "metadata": {
        "id": "4e6V-qSMAXvS"
      }
    },
    {
      "cell_type": "markdown",
      "source": [
        "#Step 1 : import libraries"
      ],
      "metadata": {
        "id": "Sgm2w_pxAg9T"
      }
    },
    {
      "cell_type": "code",
      "execution_count": null,
      "metadata": {
        "id": "u_JngPINAVKr"
      },
      "outputs": [],
      "source": []
    },
    {
      "cell_type": "markdown",
      "source": [
        "#Step 2 : Randomly chosen dataset"
      ],
      "metadata": {
        "id": "MhY9ICWhA0Pa"
      }
    },
    {
      "cell_type": "code",
      "source": [],
      "metadata": {
        "id": "VYbzzX4IApVo"
      },
      "execution_count": null,
      "outputs": []
    },
    {
      "cell_type": "markdown",
      "source": [
        "#Step 3 : Perform hierarchical clustering  + Ploting\n"
      ],
      "metadata": {
        "id": "DQMzE7CyA7zp"
      }
    },
    {
      "cell_type": "code",
      "source": [],
      "metadata": {
        "id": "K5KNTRWYBIJH"
      },
      "execution_count": null,
      "outputs": []
    }
  ]
}