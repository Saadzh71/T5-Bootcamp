{
  "nbformat": 4,
  "nbformat_minor": 0,
  "metadata": {
    "colab": {
      "provenance": []
    },
    "kernelspec": {
      "name": "python3",
      "display_name": "Python 3"
    },
    "language_info": {
      "name": "python"
    }
  },
  "cells": [
    {
      "cell_type": "markdown",
      "source": [
        "#Step 1 : Import the necessary Libraries\n",
        "### import iris dataset\n"
      ],
      "metadata": {
        "id": "MRWxfJMR56Pl"
      }
    },
    {
      "cell_type": "code",
      "execution_count": 12,
      "metadata": {
        "id": "HQ-JzySj52Wa"
      },
      "outputs": [],
      "source": []
    },
    {
      "cell_type": "markdown",
      "source": [
        "#Step 2 : Load the iris Dataset"
      ],
      "metadata": {
        "id": "mBZi1jL76BDa"
      }
    },
    {
      "cell_type": "code",
      "source": [],
      "metadata": {
        "id": "rtu-yDor6GFR"
      },
      "execution_count": 12,
      "outputs": []
    },
    {
      "cell_type": "markdown",
      "source": [
        "#Step 3 : Elbow Method\n",
        "Finding the ideal number of groups to divide the data into is a basic stage in any unsupervised algorithm. One of the most common techniques for figuring out this ideal value of k is the elbow approach.\n",
        "\n",
        "\n",
        "\n"
      ],
      "metadata": {
        "id": "p9WYoo4i6ang"
      }
    },
    {
      "cell_type": "code",
      "source": [
        "\n"
      ],
      "metadata": {
        "id": "3q24WE6H6eLq"
      },
      "execution_count": 12,
      "outputs": []
    },
    {
      "cell_type": "markdown",
      "source": [
        "#Step 4 : Plot the Elbow graph to find the optimum number of cluster\n",
        "\n"
      ],
      "metadata": {
        "id": "2NMZpwfn6ic8"
      }
    },
    {
      "cell_type": "code",
      "source": [],
      "metadata": {
        "id": "cNPZ2E046gHk"
      },
      "execution_count": 12,
      "outputs": []
    },
    {
      "cell_type": "markdown",
      "source": [
        "The plot displays a scatter plot of data points (X[:,0], X[:,1]) with grid lines. It also marks the initial cluster centers (red stars) generated for K-means clustering.\n",
        "\n"
      ],
      "metadata": {
        "id": "keDGrl4i6tUq"
      }
    },
    {
      "cell_type": "markdown",
      "source": [
        "#Step 5 : Build the Kmeans clustering model\n",
        "\n",
        "\n",
        "\n",
        "*   Find the cluster center\n",
        "*   Predict the cluster group\n",
        "\n",
        "\n",
        "\n"
      ],
      "metadata": {
        "id": "bX0wyk046vXW"
      }
    },
    {
      "cell_type": "code",
      "source": [],
      "metadata": {
        "id": "7tw93kuT6mTY"
      },
      "execution_count": 12,
      "outputs": []
    },
    {
      "cell_type": "markdown",
      "source": [
        "#Step 6 : Predict the cluster group"
      ],
      "metadata": {
        "id": "WeCJ-gD060rm"
      }
    },
    {
      "cell_type": "code",
      "source": [],
      "metadata": {
        "id": "8p5o3von6yso"
      },
      "execution_count": 12,
      "outputs": []
    },
    {
      "cell_type": "markdown",
      "source": [
        "#**Well done :)**\n"
      ],
      "metadata": {
        "id": "YC3elW7Q7Lfi"
      }
    }
  ]
}