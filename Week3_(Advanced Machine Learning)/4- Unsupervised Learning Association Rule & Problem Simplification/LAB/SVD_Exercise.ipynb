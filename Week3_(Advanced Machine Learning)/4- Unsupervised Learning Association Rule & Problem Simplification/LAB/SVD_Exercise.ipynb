{
  "nbformat": 4,
  "nbformat_minor": 0,
  "metadata": {
    "colab": {
      "provenance": []
    },
    "kernelspec": {
      "name": "python3",
      "display_name": "Python 3"
    },
    "language_info": {
      "name": "python"
    }
  },
  "cells": [
    {
      "cell_type": "markdown",
      "source": [
        "#**SVD**"
      ],
      "metadata": {
        "id": "0PzxgQHw9ccz"
      }
    },
    {
      "cell_type": "markdown",
      "source": [
        "#import libraries"
      ],
      "metadata": {
        "id": "luFPiQ2i9myX"
      }
    },
    {
      "cell_type": "code",
      "execution_count": null,
      "metadata": {
        "id": "G-4zglvy9WkS"
      },
      "outputs": [],
      "source": []
    },
    {
      "cell_type": "markdown",
      "source": [
        "#Load the tabular dataset :\n",
        "\n",
        "dataset :\n",
        "\n",
        "\n",
        "    [1, 2, 1, 0, 4],\n",
        "\n",
        "    [2, 3, 4, 0, 2],\n",
        "\n",
        "    [3, 1, 1, 0, 5],\n",
        "\n",
        "    [4, 0, 2, 5, 0],\n",
        "\n",
        "    [5, 4, 0, 1, 2]\n"
      ],
      "metadata": {
        "id": "nZFDaio79sgu"
      }
    },
    {
      "cell_type": "code",
      "source": [],
      "metadata": {
        "id": "MQ009CYG9qQS"
      },
      "execution_count": null,
      "outputs": []
    },
    {
      "cell_type": "markdown",
      "source": [
        "#Perform Singular Value Decomposition (SVD)\n"
      ],
      "metadata": {
        "id": "2roOK1gZ9yQo"
      }
    },
    {
      "cell_type": "code",
      "source": [],
      "metadata": {
        "id": "0I7M_W_E9vka"
      },
      "execution_count": null,
      "outputs": []
    },
    {
      "cell_type": "markdown",
      "source": [
        "# Extract the singular values and vectors"
      ],
      "metadata": {
        "id": "5ygCLQNt96Vb"
      }
    },
    {
      "cell_type": "code",
      "source": [],
      "metadata": {
        "id": "d_hE13Sn94k5"
      },
      "execution_count": null,
      "outputs": []
    },
    {
      "cell_type": "markdown",
      "source": [
        "# Perform dimensionality reduction by selecting top k singular values and vectors\n"
      ],
      "metadata": {
        "id": "piU0jgug9_gD"
      }
    },
    {
      "cell_type": "code",
      "source": [],
      "metadata": {
        "id": "c55uNNCH9-5d"
      },
      "execution_count": null,
      "outputs": []
    },
    {
      "cell_type": "markdown",
      "source": [
        "# Print the original and reduced datasets\n"
      ],
      "metadata": {
        "id": "4raXfdzz-Gex"
      }
    },
    {
      "cell_type": "code",
      "source": [],
      "metadata": {
        "id": "c7YIIN3S-DTl"
      },
      "execution_count": null,
      "outputs": []
    },
    {
      "cell_type": "markdown",
      "source": [
        "#**Well done :)**"
      ],
      "metadata": {
        "id": "ASLB0yos-Ofm"
      }
    }
  ]
}