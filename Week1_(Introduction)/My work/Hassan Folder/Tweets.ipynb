{
 "cells": [
  {
   "cell_type": "code",
   "execution_count": 5,
   "metadata": {},
   "outputs": [],
   "source": [
    "f = open('tweets.txt', 'r')\n",
    "lines = f.readlines()"
   ]
  },
  {
   "cell_type": "code",
   "execution_count": 6,
   "metadata": {},
   "outputs": [
    {
     "data": {
      "text/plain": [
       "list"
      ]
     },
     "execution_count": 6,
     "metadata": {},
     "output_type": "execute_result"
    }
   ],
   "source": [
    "type(lines)"
   ]
  },
  {
   "cell_type": "code",
   "execution_count": 24,
   "metadata": {},
   "outputs": [
    {
     "name": "stdout",
     "output_type": "stream",
     "text": [
      "grateful for the amazing people in my life who make it so wonderful\n",
      "the beautiful flowers were in full bloom and the sweet scent filled the air the birds were singing merrily and the sun was shining brightly it was a perfect day\n",
      "the kind and generous old man was always willing to help others he was a role model for the entire community and he was loved by everyone\n",
      "the intelligent and talented young woman had a bright future ahead of her she was passionate about her work and she was determined to make a difference in the world\n",
      "sending out good vibes to everyone today have a beautiful day\n",
      "i've been feeling so anxious and stressed lately with everything going on really need a break from it all\n",
      "traffic was the worst it's ever been today the long commute just made me feel grumpy and drained\n",
      "had an awful morning  overslept and missed my first meeting feeling uneasy about how my boss will react\n",
      "all the noise from the construction outside is driving me nuts it's making working from home dreadful\n",
      "went out with some friends last night but didn't have as much fun as i thought felt a bit lonely and left early feeling uneasy\n"
     ]
    }
   ],
   "source": [
    "filtered = []\n",
    "for l in lines:\n",
    "    if l == '\\n':\n",
    "        continue\n",
    "    l = l.strip() # strip to remove the extra \"\\n\"\n",
    "    l = l.replace('!', '')\n",
    "    l = l.replace('.', '')\n",
    "    l = l.replace('-', '')\n",
    "    l = l.lower()\n",
    "    print(l)\n",
    "    filtered.append(l)"
   ]
  },
  {
   "cell_type": "code",
   "execution_count": 27,
   "metadata": {},
   "outputs": [
    {
     "data": {
      "text/plain": [
       "'grateful for the amazing people in my life who make it so wonderful'"
      ]
     },
     "execution_count": 27,
     "metadata": {},
     "output_type": "execute_result"
    }
   ],
   "source": [
    "tweets = filtered\n",
    "tweets[0]"
   ]
  },
  {
   "cell_type": "code",
   "execution_count": 30,
   "metadata": {},
   "outputs": [
    {
     "data": {
      "text/plain": [
       "['anxious\\n',\n",
       " 'stressed\\n',\n",
       " 'worst\\n',\n",
       " 'grumpy\\n',\n",
       " 'drained\\n',\n",
       " 'awful\\n',\n",
       " 'overslept\\n',\n",
       " 'missed\\n',\n",
       " 'uneasy\\n',\n",
       " 'boss\\n',\n",
       " 'noise\\n',\n",
       " 'dreadful\\n',\n",
       " 'lonely']"
      ]
     },
     "execution_count": 30,
     "metadata": {},
     "output_type": "execute_result"
    }
   ],
   "source": [
    "f = open('words_negative.txt', 'r')\n",
    "lines = f.readlines()\n",
    "lines"
   ]
  },
  {
   "cell_type": "code",
   "execution_count": 39,
   "metadata": {},
   "outputs": [
    {
     "data": {
      "text/plain": [
       "['Grateful\\n',\n",
       " 'amazing\\n',\n",
       " 'wonderful\\n',\n",
       " 'beautiful\\n',\n",
       " 'sweet\\n',\n",
       " 'perfect\\n',\n",
       " 'kind\\n',\n",
       " 'generous\\n',\n",
       " 'help\\n',\n",
       " 'loved\\n',\n",
       " 'intelligent\\n',\n",
       " 'talented\\n',\n",
       " 'young\\n',\n",
       " 'bright\\n',\n",
       " 'passionate\\n',\n",
       " 'determined\\n',\n",
       " 'good\\n',\n",
       " 'beautiful\\n',\n",
       " 'friends\\n',\n",
       " 'fun\\n']"
      ]
     },
     "execution_count": 39,
     "metadata": {},
     "output_type": "execute_result"
    }
   ],
   "source": [
    "f = open('words_positive.txt', 'r')\n",
    "lines = f.readlines()\n",
    "lines"
   ]
  },
  {
   "cell_type": "code",
   "execution_count": 40,
   "metadata": {},
   "outputs": [
    {
     "data": {
      "text/plain": [
       "['grateful',\n",
       " 'amazing',\n",
       " 'wonderful',\n",
       " 'beautiful',\n",
       " 'sweet',\n",
       " 'perfect',\n",
       " 'kind',\n",
       " 'generous',\n",
       " 'help',\n",
       " 'loved',\n",
       " 'intelligent',\n",
       " 'talented',\n",
       " 'young',\n",
       " 'bright',\n",
       " 'passionate',\n",
       " 'determined',\n",
       " 'good',\n",
       " 'beautiful',\n",
       " 'friends',\n",
       " 'fun']"
      ]
     },
     "execution_count": 40,
     "metadata": {},
     "output_type": "execute_result"
    }
   ],
   "source": [
    "filtered = []\n",
    "for l in lines:\n",
    "    l = l.strip()\n",
    "    l = l.lower()\n",
    "    filtered.append(l)\n",
    "filtered"
   ]
  },
  {
   "cell_type": "code",
   "execution_count": 41,
   "metadata": {},
   "outputs": [],
   "source": [
    "positive_words = set(filtered)"
   ]
  },
  {
   "cell_type": "code",
   "execution_count": 32,
   "metadata": {},
   "outputs": [],
   "source": [
    "# negative_words = filtered"
   ]
  },
  {
   "cell_type": "code",
   "execution_count": 56,
   "metadata": {},
   "outputs": [
    {
     "data": {
      "text/plain": [
       "[('grateful for the amazing people in my life who make it so wonderful', 3),\n",
       " ('the beautiful flowers were in full bloom and the sweet scent filled the air the birds were singing merrily and the sun was shining brightly it was a perfect day',\n",
       "  5),\n",
       " ('the kind and generous old man was always willing to help others he was a role model for the entire community and he was loved by everyone',\n",
       "  4),\n",
       " ('the intelligent and talented young woman had a bright future ahead of her she was passionate about her work and she was determined to make a difference in the world',\n",
       "  6),\n",
       " ('sending out good vibes to everyone today have a beautiful day', 3),\n",
       " (\"i've been feeling so anxious and stressed lately with everything going on really need a break from it all\",\n",
       "  -2),\n",
       " (\"traffic was the worst it's ever been today the long commute just made me feel grumpy and drained\",\n",
       "  -3),\n",
       " ('had an awful morning  overslept and missed my first meeting feeling uneasy about how my boss will react',\n",
       "  -5),\n",
       " (\"all the noise from the construction outside is driving me nuts it's making working from home dreadful\",\n",
       "  -2),\n",
       " (\"went out with some friends last night but didn't have as much fun as i thought felt a bit lonely and left early feeling uneasy\",\n",
       "  0)]"
      ]
     },
     "execution_count": 56,
     "metadata": {},
     "output_type": "execute_result"
    }
   ],
   "source": [
    "result = []\n",
    "for t in tweets:\n",
    "    n_count = 0\n",
    "    p_count = 0\n",
    "    for w in negative_words:\n",
    "        if w in t:\n",
    "            n_count += 1\n",
    "    for w in positive_words:\n",
    "        if w in t:\n",
    "            p_count += 1\n",
    "    score = p_count - n_count\n",
    "    # print(n_count, p_count, '=', score, t)\n",
    "    result.append((t, score))\n",
    "\n",
    "result"
   ]
  },
  {
   "cell_type": "code",
   "execution_count": 66,
   "metadata": {},
   "outputs": [
    {
     "name": "stdout",
     "output_type": "stream",
     "text": [
      "6 --> the intelligent and talented young woman had a bright future ahead of her she was passionate about her work and she was determined to make a difference in the world\n",
      "5 --> the beautiful flowers were in full bloom and the sweet scent filled the air the birds were singing merrily and the sun was shining brightly it was a perfect day\n",
      "4 --> the kind and generous old man was always willing to help others he was a role model for the entire community and he was loved by everyone\n",
      "3 --> grateful for the amazing people in my life who make it so wonderful\n",
      "3 --> sending out good vibes to everyone today have a beautiful day\n",
      "0 --> went out with some friends last night but didn't have as much fun as i thought felt a bit lonely and left early feeling uneasy\n",
      "-2 --> i've been feeling so anxious and stressed lately with everything going on really need a break from it all\n",
      "-2 --> all the noise from the construction outside is driving me nuts it's making working from home dreadful\n",
      "-3 --> traffic was the worst it's ever been today the long commute just made me feel grumpy and drained\n",
      "-5 --> had an awful morning  overslept and missed my first meeting feeling uneasy about how my boss will react\n"
     ]
    }
   ],
   "source": [
    "final_result = sorted(result, key=lambda tup: tup[1], reverse=True)\n",
    "\n",
    "for t, s in final_result:\n",
    "    print(f'{s} --> {t}')"
   ]
  },
  {
   "cell_type": "code",
   "execution_count": 37,
   "metadata": {},
   "outputs": [
    {
     "data": {
      "text/plain": [
       "[\"i've been feeling so anxious and stressed lately with everything going on really need a break from it all\",\n",
       " \"i've been feeling so anxious and stressed lately with everything going on really need a break from it all\",\n",
       " \"traffic was the worst it's ever been today the long commute just made me feel grumpy and drained\",\n",
       " \"traffic was the worst it's ever been today the long commute just made me feel grumpy and drained\",\n",
       " \"traffic was the worst it's ever been today the long commute just made me feel grumpy and drained\",\n",
       " 'had an awful morning  overslept and missed my first meeting feeling uneasy about how my boss will react',\n",
       " 'had an awful morning  overslept and missed my first meeting feeling uneasy about how my boss will react',\n",
       " 'had an awful morning  overslept and missed my first meeting feeling uneasy about how my boss will react',\n",
       " 'had an awful morning  overslept and missed my first meeting feeling uneasy about how my boss will react',\n",
       " \"went out with some friends last night but didn't have as much fun as i thought felt a bit lonely and left early feeling uneasy\",\n",
       " 'had an awful morning  overslept and missed my first meeting feeling uneasy about how my boss will react',\n",
       " \"all the noise from the construction outside is driving me nuts it's making working from home dreadful\",\n",
       " \"all the noise from the construction outside is driving me nuts it's making working from home dreadful\",\n",
       " \"went out with some friends last night but didn't have as much fun as i thought felt a bit lonely and left early feeling uneasy\"]"
      ]
     },
     "execution_count": 37,
     "metadata": {},
     "output_type": "execute_result"
    }
   ],
   "source": [
    "negative_tweets = []\n",
    "for x in negative_words:\n",
    "    n_count = 0\n",
    "    for t in tweets:\n",
    "        if x in t:\n",
    "            negative_tweets.append(t)\n",
    "negative_tweets"
   ]
  }
 ],
 "metadata": {
  "kernelspec": {
   "display_name": "wint5",
   "language": "python",
   "name": "python3"
  },
  "language_info": {
   "codemirror_mode": {
    "name": "ipython",
    "version": 3
   },
   "file_extension": ".py",
   "mimetype": "text/x-python",
   "name": "python",
   "nbconvert_exporter": "python",
   "pygments_lexer": "ipython3",
   "version": "3.9.19"
  }
 },
 "nbformat": 4,
 "nbformat_minor": 2
}
