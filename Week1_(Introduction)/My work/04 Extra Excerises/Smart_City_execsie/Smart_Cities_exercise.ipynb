{
  "nbformat": 4,
  "nbformat_minor": 0,
  "metadata": {
    "colab": {
      "provenance": []
    },
    "kernelspec": {
      "name": "python3",
      "display_name": "Python 3"
    },
    "language_info": {
      "name": "python"
    }
  },
  "cells": [
    {
      "cell_type": "markdown",
      "source": [
        "#Dataset Description"
      ],
      "metadata": {
        "id": "DTb5fVjdGwUl"
      }
    },
    {
      "cell_type": "markdown",
      "source": [
        "\\\n",
        "# Upload Dataset : https://www.kaggle.com/datasets/magdamonteiro/smart-cities-index-datasets\n",
        "\n",
        "## The dataset contains information about Used Cars Price with the following columns:\n",
        "\n",
        "`Id`: Column identifier\n",
        "\n",
        "`City`: List of countries where smart cities across the world are located.\n",
        "\n",
        "`Country`: The location in which the car is being sold or is available for purchase.\n",
        "\n",
        "`Smart_Mobility`: Index calculated from assessment of city-wide Public Transportation System, ICT, accessibility infrastructure..\n",
        "\n",
        "`Smart_Environment`: Index calculated from environmental sustainability impact, monitoring pollution and energy management.\n",
        "\n",
        "`Smart_Government`: Index calculated from comparative study of transparent governance & open data initiatives of smart cities across the\n",
        "\n",
        "`Smart_Economy`: Index calculated through global comparison of city-wide productivity, economic vitality, and support for\n",
        "\n",
        "`Smart_People`: Index calculated by comparing social and cultural plurality, education systems and its supporting ancillary.\n",
        "\n",
        "`Smart_Living`: Index calculated by measuring metric around healthcare services, social security and housing quality.\n",
        "\n",
        "`SmartCity_Index`: Aggregate score for smart city model based on smart city supergroups.\n"
      ],
      "metadata": {
        "id": "mSRGDHSbHDeM"
      }
    },
    {
      "cell_type": "markdown",
      "source": [
        "#Tasks"
      ],
      "metadata": {
        "id": "HvI8DzaOJblt"
      }
    },
    {
      "cell_type": "markdown",
      "source": [
        "## 1 . Data Cleaning"
      ],
      "metadata": {
        "id": "Nm1AsHp-Jubh"
      }
    },
    {
      "cell_type": "markdown",
      "source": [
        "### Read the dataset"
      ],
      "metadata": {
        "id": "dkY4hiBBJ27r"
      }
    },
    {
      "cell_type": "code",
      "execution_count": null,
      "metadata": {
        "id": "yUO5x6tVGm2t"
      },
      "outputs": [],
      "source": []
    },
    {
      "cell_type": "markdown",
      "source": [
        "### Handling Missing Values"
      ],
      "metadata": {
        "id": "wTr5W6OvKM0X"
      }
    },
    {
      "cell_type": "code",
      "source": [],
      "metadata": {
        "id": "gSaC_IDkKTBQ"
      },
      "execution_count": null,
      "outputs": []
    },
    {
      "cell_type": "markdown",
      "source": [
        "### Correct any inconsistent data entries."
      ],
      "metadata": {
        "id": "xBeKdbt4KUkt"
      }
    },
    {
      "cell_type": "code",
      "source": [],
      "metadata": {
        "id": "KlDHE7XKKbyx"
      },
      "execution_count": null,
      "outputs": []
    },
    {
      "cell_type": "markdown",
      "source": [
        "### Ensure data types are appropriate for each column.\n",
        "\n",
        "---"
      ],
      "metadata": {
        "id": "vCgItGIxKnNe"
      }
    },
    {
      "cell_type": "code",
      "source": [],
      "metadata": {
        "id": "An11LcJdKt5l"
      },
      "execution_count": null,
      "outputs": []
    },
    {
      "cell_type": "markdown",
      "source": [
        "## 2. Exploratory Data Analysis (EDA)"
      ],
      "metadata": {
        "id": "QE0Ag5O7KurP"
      }
    },
    {
      "cell_type": "code",
      "source": [],
      "metadata": {
        "id": "BZysHSvdKxPT"
      },
      "execution_count": null,
      "outputs": []
    },
    {
      "cell_type": "markdown",
      "source": [
        "### Perform summary statistics on the dataset."
      ],
      "metadata": {
        "id": "XRScEFzNKyHA"
      }
    },
    {
      "cell_type": "code",
      "source": [],
      "metadata": {
        "id": "SZ4n-Hx_K0t4"
      },
      "execution_count": null,
      "outputs": []
    },
    {
      "cell_type": "markdown",
      "source": [
        "### Identify and analyze patterns in the data."
      ],
      "metadata": {
        "id": "zheBK1l2K4yI"
      }
    },
    {
      "cell_type": "code",
      "source": [],
      "metadata": {
        "id": "Kkxm0COuK5dg"
      },
      "execution_count": null,
      "outputs": []
    },
    {
      "cell_type": "markdown",
      "source": [
        "### Visualize the distribution of key variables."
      ],
      "metadata": {
        "id": "9IOE7kJdK6A6"
      }
    },
    {
      "cell_type": "code",
      "source": [],
      "metadata": {
        "id": "0URyVJ_iK8YD"
      },
      "execution_count": null,
      "outputs": []
    },
    {
      "cell_type": "markdown",
      "source": [
        "### Explore relationships between variables.\n"
      ],
      "metadata": {
        "id": "JTiC1WnxLBDX"
      }
    },
    {
      "cell_type": "code",
      "source": [],
      "metadata": {
        "id": "NAaoLGnxLDlG"
      },
      "execution_count": null,
      "outputs": []
    },
    {
      "cell_type": "code",
      "source": [],
      "metadata": {
        "id": "iH5C2DglLJjR"
      },
      "execution_count": null,
      "outputs": []
    }
  ]
}