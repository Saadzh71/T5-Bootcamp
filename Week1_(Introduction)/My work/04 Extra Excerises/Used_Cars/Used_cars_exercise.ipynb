{
  "nbformat": 4,
  "nbformat_minor": 0,
  "metadata": {
    "colab": {
      "provenance": []
    },
    "kernelspec": {
      "name": "python3",
      "display_name": "Python 3"
    },
    "language_info": {
      "name": "python"
    }
  },
  "cells": [
    {
      "cell_type": "markdown",
      "source": [
        "#Dataset Description"
      ],
      "metadata": {
        "id": "DTb5fVjdGwUl"
      }
    },
    {
      "cell_type": "markdown",
      "source": [
        "\\\n",
        "# Upload Dataset : https://www.kaggle.com/datasets/avikasliwal/used-cars-price-prediction/data\n",
        "\n",
        "## The dataset contains information about Used Cars Price with the following columns:\n",
        "\n",
        "`index`: Index\n",
        "\n",
        "`Name`: The brand and model of the car.\n",
        "\n",
        "`Location`: The location in which the car is being sold or is available for purchase.\n",
        "\n",
        "`Year`: The year or edition of the model.\n",
        "\n",
        "`Kilometers_Driven`: The total kilometres driven in the car by the previous owner(s) in KM.\n",
        "\n",
        "`Fuel_Type`: The type of fuel used by the car. (Petrol / Diesel / Electric / CNG / LPG)\n",
        "\n",
        "`Transmission`: The type of transmission used by the car. (Automatic / Manual)\n",
        "\n",
        "`Owner_Type`: Whether the ownership is Firsthand, Second hand or other.\n",
        "\n",
        "`Mileage`: The standard mileage offered by the car company in kmpl or km/kg\n",
        "\n",
        "`Engine`: The displacement volume of the engine in cc.\n"
      ],
      "metadata": {
        "id": "mSRGDHSbHDeM"
      }
    },
    {
      "cell_type": "markdown",
      "source": [
        "#Tasks"
      ],
      "metadata": {
        "id": "HvI8DzaOJblt"
      }
    },
    {
      "cell_type": "markdown",
      "source": [
        "## 1 . Data Cleaning"
      ],
      "metadata": {
        "id": "Nm1AsHp-Jubh"
      }
    },
    {
      "cell_type": "markdown",
      "source": [
        "### Read the dataset"
      ],
      "metadata": {
        "id": "dkY4hiBBJ27r"
      }
    },
    {
      "cell_type": "code",
      "execution_count": null,
      "metadata": {
        "id": "yUO5x6tVGm2t"
      },
      "outputs": [],
      "source": []
    },
    {
      "cell_type": "markdown",
      "source": [
        "### Handling Missing Values"
      ],
      "metadata": {
        "id": "wTr5W6OvKM0X"
      }
    },
    {
      "cell_type": "code",
      "source": [],
      "metadata": {
        "id": "gSaC_IDkKTBQ"
      },
      "execution_count": null,
      "outputs": []
    },
    {
      "cell_type": "markdown",
      "source": [
        "### Correct any inconsistent data entries."
      ],
      "metadata": {
        "id": "xBeKdbt4KUkt"
      }
    },
    {
      "cell_type": "code",
      "source": [],
      "metadata": {
        "id": "KlDHE7XKKbyx"
      },
      "execution_count": null,
      "outputs": []
    },
    {
      "cell_type": "markdown",
      "source": [
        "### Ensure data types are appropriate for each column.\n",
        "\n",
        "---"
      ],
      "metadata": {
        "id": "vCgItGIxKnNe"
      }
    },
    {
      "cell_type": "code",
      "source": [],
      "metadata": {
        "id": "An11LcJdKt5l"
      },
      "execution_count": null,
      "outputs": []
    },
    {
      "cell_type": "markdown",
      "source": [
        "## 2. Exploratory Data Analysis (EDA)"
      ],
      "metadata": {
        "id": "QE0Ag5O7KurP"
      }
    },
    {
      "cell_type": "code",
      "source": [],
      "metadata": {
        "id": "BZysHSvdKxPT"
      },
      "execution_count": null,
      "outputs": []
    },
    {
      "cell_type": "markdown",
      "source": [
        "### Perform summary statistics on the dataset."
      ],
      "metadata": {
        "id": "XRScEFzNKyHA"
      }
    },
    {
      "cell_type": "code",
      "source": [],
      "metadata": {
        "id": "SZ4n-Hx_K0t4"
      },
      "execution_count": null,
      "outputs": []
    },
    {
      "cell_type": "markdown",
      "source": [
        "### Identify and analyze patterns in the data."
      ],
      "metadata": {
        "id": "zheBK1l2K4yI"
      }
    },
    {
      "cell_type": "code",
      "source": [],
      "metadata": {
        "id": "Kkxm0COuK5dg"
      },
      "execution_count": null,
      "outputs": []
    },
    {
      "cell_type": "markdown",
      "source": [
        "### Visualize the distribution of key variables."
      ],
      "metadata": {
        "id": "9IOE7kJdK6A6"
      }
    },
    {
      "cell_type": "code",
      "source": [],
      "metadata": {
        "id": "0URyVJ_iK8YD"
      },
      "execution_count": null,
      "outputs": []
    },
    {
      "cell_type": "markdown",
      "source": [
        "### Explore relationships between variables.\n"
      ],
      "metadata": {
        "id": "JTiC1WnxLBDX"
      }
    },
    {
      "cell_type": "code",
      "source": [],
      "metadata": {
        "id": "NAaoLGnxLDlG"
      },
      "execution_count": null,
      "outputs": []
    },
    {
      "cell_type": "markdown",
      "source": [
        "## 3. Data Visualization"
      ],
      "metadata": {
        "id": "nQxGw1UDLHGd"
      }
    },
    {
      "cell_type": "markdown",
      "source": [
        "* Ensure the visualizations are clear and informative."
      ],
      "metadata": {
        "id": "sxgA_isHLPND"
      }
    },
    {
      "cell_type": "markdown",
      "source": [
        "### Create visualizations to illustrate the findings from the EDA.\n"
      ],
      "metadata": {
        "id": "Y0Ybj3OxLLhS"
      }
    },
    {
      "cell_type": "code",
      "source": [],
      "metadata": {
        "id": "8ADoIqOdLXjl"
      },
      "execution_count": null,
      "outputs": []
    },
    {
      "cell_type": "markdown",
      "source": [
        "### Use appropriate plots such as histograms, bar charts, pie charts, scatter plots, and heatmaps."
      ],
      "metadata": {
        "id": "EgZunCtQLVVl"
      }
    },
    {
      "cell_type": "code",
      "source": [],
      "metadata": {
        "id": "OpHw0-g1LUp3"
      },
      "execution_count": null,
      "outputs": []
    },
    {
      "cell_type": "markdown",
      "source": [
        "## 4. Insights and Conclusions"
      ],
      "metadata": {
        "id": "dutiJF3bLc8d"
      }
    },
    {
      "cell_type": "markdown",
      "source": [
        "* <h3>Summarize the key insights gained from the data analysis.<h3/>\n",
        "* <h3>Draw conclusions based on the patterns observed in the data.<h3/>"
      ],
      "metadata": {
        "id": "w6lhlTnYLhDg"
      }
    },
    {
      "cell_type": "code",
      "source": [],
      "metadata": {
        "id": "iH5C2DglLJjR"
      },
      "execution_count": null,
      "outputs": []
    }
  ]
}